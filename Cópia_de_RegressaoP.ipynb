{
  "nbformat": 4,
  "nbformat_minor": 0,
  "metadata": {
    "colab": {
      "private_outputs": true,
      "provenance": [],
      "authorship_tag": "ABX9TyOzG1+a5zeHEJzkoiYJzVhD",
      "include_colab_link": true
    },
    "kernelspec": {
      "name": "python3",
      "display_name": "Python 3"
    },
    "language_info": {
      "name": "python"
    }
  },
  "cells": [
    {
      "cell_type": "markdown",
      "metadata": {
        "id": "view-in-github",
        "colab_type": "text"
      },
      "source": [
        "<a href=\"https://colab.research.google.com/github/nemilsonDev/Projeto-landing-Page/blob/main/C%C3%B3pia_de_RegressaoP.ipynb\" target=\"_parent\"><img src=\"https://colab.research.google.com/assets/colab-badge.svg\" alt=\"Open In Colab\"/></a>"
      ]
    },
    {
      "cell_type": "code",
      "execution_count": null,
      "metadata": {
        "id": "N7WsFNvJXN2_"
      },
      "outputs": [],
      "source": [
        "import pandas as pd\n",
        "import numpy as np\n",
        "import matplotlib.pyplot as plt\n",
        "import statsmodels.formula.api as sm\n",
        "import scipy.stats as stats\n",
        "import seaborn as sns\n"
      ]
    },
    {
      "cell_type": "code",
      "source": [
        "base  = pd.read_csv('mt_cars.csv')\n",
        "base.shape\n"
      ],
      "metadata": {
        "id": "JZ3MMuLgp9rL"
      },
      "execution_count": null,
      "outputs": []
    },
    {
      "cell_type": "markdown",
      "source": [
        "Retirando a coluna Unnamed :0"
      ],
      "metadata": {
        "id": "HbAgLpHmtecj"
      }
    },
    {
      "cell_type": "code",
      "source": [
        "base.head()\n",
        "base = base.drop(['Unnamed: 0'], axis=1)\n",
        "base.head()"
      ],
      "metadata": {
        "id": "a_7z1Cl1wvR9"
      },
      "execution_count": null,
      "outputs": []
    },
    {
      "cell_type": "code",
      "source": [
        "corr = base.corr()\n",
        "sns.heatmap(corr, cmap='coolwarm', annot=True, fmt='.2f')"
      ],
      "metadata": {
        "id": "HmNuf6p0w0KH"
      },
      "execution_count": null,
      "outputs": []
    },
    {
      "cell_type": "code",
      "source": [],
      "metadata": {
        "id": "BpB4OG2c5RmX"
      },
      "execution_count": null,
      "outputs": []
    }
  ]
}